{
 "cells": [
  {
   "cell_type": "code",
   "execution_count": null,
   "id": "f0145cb4-45c5-475a-b108-009a94a16525",
   "metadata": {},
   "outputs": [],
   "source": [
    "library(dplyr)"
   ]
  },
  {
   "cell_type": "code",
   "execution_count": null,
   "id": "2c0ad2ab-520b-402c-9f2a-c26d4df13a5f",
   "metadata": {},
   "outputs": [],
   "source": [
    "library(tidyr)"
   ]
  },
  {
   "cell_type": "markdown",
   "id": "72d7ea70-61f4-466b-89ed-fb5e681e1c31",
   "metadata": {},
   "source": [
    "# Section 1: Syntax"
   ]
  },
  {
   "cell_type": "markdown",
   "id": "f609d94f-200b-471d-b50c-4c9b35ed18ba",
   "metadata": {},
   "source": [
    "Convert the following table to a tbl class"
   ]
  },
  {
   "cell_type": "code",
   "execution_count": null,
   "id": "e6fb6289-074d-43bf-ba98-126f26ee6af3",
   "metadata": {},
   "outputs": [],
   "source": [
    "BG3_char <- data.frame (\n",
    "  Names = c(\"Gale\", \"Wyll\", \"Astarion\", \"Karlach\"),\n",
    "  HP = c(8, 10, 10, 14),\n",
    "  Human = c(TRUE, TRUE, FALSE, FALSE)\n",
    ")\n",
    "class(BG3_char)\n"
   ]
  },
  {
   "cell_type": "markdown",
   "id": "0296e172-6382-4ce3-8ab7-a5e575d4ad4d",
   "metadata": {},
   "source": [
    "Give a summary of the table"
   ]
  },
  {
   "cell_type": "code",
   "execution_count": null,
   "id": "3d4cf69a-e465-4ad1-8de1-fcbfc9bce713",
   "metadata": {},
   "outputs": [],
   "source": []
  },
  {
   "cell_type": "markdown",
   "id": "7317924c-7df3-4ccc-85c3-8bb26b2bd7e6",
   "metadata": {},
   "source": [
    "View the data (for RStudio, not Jupyter Notebook)"
   ]
  },
  {
   "cell_type": "code",
   "execution_count": null,
   "id": "22b13a0a-000c-4630-8929-be502dac0176",
   "metadata": {},
   "outputs": [],
   "source": []
  },
  {
   "cell_type": "markdown",
   "id": "d88bcecb-2934-4590-b9c0-ce618e4c60ac",
   "metadata": {},
   "source": [
    "# Section 2: Reshaping data"
   ]
  },
  {
   "cell_type": "markdown",
   "id": "7cac927f-e4f6-411a-a80f-02dd1e5de1bf",
   "metadata": {},
   "source": [
    "Change the following data frame in a way that each year is a column containing the ages."
   ]
  },
  {
   "cell_type": "code",
   "execution_count": null,
   "id": "98e3dce8-03b9-43fd-9eee-38bb4a90e5ee",
   "metadata": {},
   "outputs": [],
   "source": [
    "Age_DF <- data.frame (\n",
    "  Name = c(\"Lizzie\", \"Lizzie\", \"Lizzie\", \"Emma\", \"Emma\", \"Emma\"),\n",
    "  Year = c(2023, 2022, 2021, 2023, 2022, 2021),\n",
    "  Age = c(27, 26, 25, 25, 24, 23)\n",
    ")\n",
    "Age_DF <- tbl_df(Age_DF)\n",
    "Age_DF\n"
   ]
  },
  {
   "cell_type": "markdown",
   "id": "f976fa04-7103-4e53-9245-57fe69762708",
   "metadata": {},
   "source": [
    "Change the data frame to how it originally was"
   ]
  },
  {
   "cell_type": "code",
   "execution_count": null,
   "id": "79a535e1-b887-40e4-8f5e-82187ab47c2f",
   "metadata": {},
   "outputs": [],
   "source": []
  },
  {
   "cell_type": "markdown",
   "id": "87fd1233-e1f5-43e3-b74a-4a5464a7e6d3",
   "metadata": {},
   "source": [
    "Order the names alphabethically and descending"
   ]
  },
  {
   "cell_type": "code",
   "execution_count": null,
   "id": "2c8d483a-81b9-4541-a459-68f3d9eafc2f",
   "metadata": {},
   "outputs": [],
   "source": []
  },
  {
   "cell_type": "markdown",
   "id": "bcf0a89f-0c92-4fe2-8d18-62c6fd988433",
   "metadata": {},
   "source": [
    "Combine columns and seperate them again"
   ]
  },
  {
   "cell_type": "code",
   "execution_count": null,
   "id": "9d037012-e407-4602-ac88-61efc92441f3",
   "metadata": {},
   "outputs": [],
   "source": []
  },
  {
   "cell_type": "markdown",
   "id": "6c219abe-a303-428b-b12a-730f71ac2483",
   "metadata": {},
   "source": [
    "Combine two vectors into one dataframe"
   ]
  },
  {
   "cell_type": "code",
   "execution_count": null,
   "id": "a7a18355-cedd-4069-8c27-c6a85b3f6070",
   "metadata": {},
   "outputs": [],
   "source": [
    "pets <- c(\"dog\", \"cat\", \"bunny\")\n",
    "number_of <- 1:3\n"
   ]
  },
  {
   "cell_type": "markdown",
   "id": "9ee6a6b2-3e76-498e-a330-5899ad553175",
   "metadata": {},
   "source": [
    "Rename a column of the dataframe"
   ]
  },
  {
   "cell_type": "code",
   "execution_count": null,
   "id": "c4ff9d0b-be58-4f4c-9c19-9f643a5a24ca",
   "metadata": {},
   "outputs": [],
   "source": []
  },
  {
   "cell_type": "markdown",
   "id": "8d6009ea-4c6d-45c5-925a-8a126b30dd8e",
   "metadata": {},
   "source": [
    "# Section 3: Subset Observations"
   ]
  },
  {
   "cell_type": "markdown",
   "id": "7beff8c3-4c19-46a5-a52e-ef035bb5f1fb",
   "metadata": {},
   "source": [
    "Subselect the characters who have equal or higher than 10"
   ]
  },
  {
   "cell_type": "code",
   "execution_count": null,
   "id": "bfcf6289-b76b-4ddc-a804-3252ea65f2d5",
   "metadata": {},
   "outputs": [],
   "source": [
    "BG3_char <- data.frame (\n",
    "  Names = c(\"Gale\", \"Wyll\", \"Astarion\", \"Karlach\", \"Karlach\"),\n",
    "  HP = c(8, 10, 10, 14, 14),\n",
    "  Human = c(TRUE, TRUE, FALSE, FALSE, FALSE)\n",
    ")"
   ]
  },
  {
   "cell_type": "markdown",
   "id": "0dbf7f3d-036f-4f65-92c6-af78198c0378",
   "metadata": {},
   "source": [
    "Remove the duplicate row from the table"
   ]
  },
  {
   "cell_type": "code",
   "execution_count": null,
   "id": "27c1c724-b153-4ebb-b634-979d6a10e357",
   "metadata": {},
   "outputs": [],
   "source": []
  },
  {
   "cell_type": "markdown",
   "id": "2f2e3471-4ebb-468d-8ffb-d906539e32a9",
   "metadata": {},
   "source": [
    "Select half of the dataset randomly"
   ]
  },
  {
   "cell_type": "code",
   "execution_count": null,
   "id": "0bc38836-27e9-4a9b-8329-e83740206e07",
   "metadata": {},
   "outputs": [],
   "source": []
  },
  {
   "cell_type": "markdown",
   "id": "fa4b474d-bf04-4f8d-b722-3bc832e906b5",
   "metadata": {},
   "source": [
    "Select 1 row randomly"
   ]
  },
  {
   "cell_type": "code",
   "execution_count": null,
   "id": "a9ea9bc8-e4ae-457d-8264-540953f4e486",
   "metadata": {},
   "outputs": [],
   "source": []
  },
  {
   "cell_type": "markdown",
   "id": "5003c59b-c08b-4ec4-af28-3f5fbc5949e5",
   "metadata": {},
   "source": [
    "Select the first 2 rows using their position"
   ]
  },
  {
   "cell_type": "code",
   "execution_count": null,
   "id": "3ba137ec-f0ca-4197-9bea-6ff7f9bda127",
   "metadata": {},
   "outputs": [],
   "source": []
  },
  {
   "cell_type": "markdown",
   "id": "315752a9-076f-4e18-b41b-c2ec7eac79d7",
   "metadata": {},
   "source": [
    "select the character with the highest hp"
   ]
  },
  {
   "cell_type": "code",
   "execution_count": null,
   "id": "623663b8-e603-4257-9c1c-e6c692fe543e",
   "metadata": {},
   "outputs": [],
   "source": []
  },
  {
   "cell_type": "markdown",
   "id": "f2d7f5cc-cd14-4c1c-9c1b-8e8dfc560047",
   "metadata": {},
   "source": [
    "Select only the Names and Human column"
   ]
  },
  {
   "cell_type": "code",
   "execution_count": null,
   "id": "edf71712-ab8a-4235-87be-7441aadfb8e3",
   "metadata": {},
   "outputs": [],
   "source": []
  },
  {
   "cell_type": "markdown",
   "id": "d2a7f0cb-144a-44cc-8889-cf47b2e4dad0",
   "metadata": {},
   "source": [
    "# Section 4: Summarise data"
   ]
  },
  {
   "cell_type": "markdown",
   "id": "69df307c-45e4-4193-aec6-48e3ef7ffb14",
   "metadata": {},
   "source": [
    "!! Tip: you can use %>% to pipe different steps in a way that is more readable !!"
   ]
  },
  {
   "cell_type": "markdown",
   "id": "0d364e3e-64cd-42cc-a4bb-43e4b69d9af9",
   "metadata": {},
   "source": [
    "Summarise the table below using piping, to caclulate the mean HP group by the human column."
   ]
  },
  {
   "cell_type": "code",
   "execution_count": null,
   "id": "bc955ffb-8c02-4605-9b01-7b0bb1cbc233",
   "metadata": {},
   "outputs": [],
   "source": [
    "BG3_char <- data.frame (\n",
    "  Names = c(\"Gale\", \"Wyll\", \"Astarion\", \"Karlach\"),\n",
    "  HP = c(8, 10, 10, 14),\n",
    "  Human = c(TRUE, TRUE, FALSE, FALSE)\n",
    ")\n",
    "tbl_BG3_char <- tbl_df(BG3_char)\n",
    "tbl_BG3_char\n"
   ]
  },
  {
   "cell_type": "markdown",
   "id": "22eb3f49-4787-446d-a032-e047c72fd78b",
   "metadata": {},
   "source": [
    "Summarise each column of the table and see what happens for each datatype"
   ]
  },
  {
   "cell_type": "code",
   "execution_count": null,
   "id": "98c27a26-dd55-4991-818f-25509fe6efdf",
   "metadata": {},
   "outputs": [],
   "source": []
  },
  {
   "cell_type": "markdown",
   "id": "6806c68a-f03b-4c03-84b1-2dc842c56a49",
   "metadata": {},
   "source": [
    "count how often each HP value appears in the table"
   ]
  },
  {
   "cell_type": "code",
   "execution_count": null,
   "id": "0d5b4dd4-a187-4c42-8db8-c683d95ee258",
   "metadata": {},
   "outputs": [],
   "source": []
  },
  {
   "cell_type": "markdown",
   "id": "144fc52f-aac6-4dee-b589-d7e2b1e955d7",
   "metadata": {},
   "source": [
    "# Section 5: Make new variables"
   ]
  },
  {
   "cell_type": "markdown",
   "id": "c026f812-24a5-429c-97db-392e4e83cfc0",
   "metadata": {},
   "source": [
    "Add a new column to the table"
   ]
  },
  {
   "cell_type": "code",
   "execution_count": null,
   "id": "1813bdb6-6aee-4f12-82a9-a95a083339f7",
   "metadata": {},
   "outputs": [],
   "source": [
    "new_column <- c(6, 6, 8, 4)"
   ]
  },
  {
   "cell_type": "markdown",
   "id": "5125a589-22e2-4b1e-9d4c-8b3cb44d246b",
   "metadata": {},
   "source": [
    "Combine the HP and Temp_HP column"
   ]
  },
  {
   "cell_type": "code",
   "execution_count": null,
   "id": "e6a2a07f-f2a9-4cfc-a81a-371894de4b78",
   "metadata": {},
   "outputs": [],
   "source": []
  },
  {
   "cell_type": "markdown",
   "id": "754a5be5-f48e-48bf-8945-46652fd1bcb7",
   "metadata": {},
   "source": [
    "Repeat the previous code using transmute() instead of mutate() and saving it in a different variable."
   ]
  },
  {
   "cell_type": "code",
   "execution_count": null,
   "id": "738e33f2-497f-4350-baed-b0db645a8380",
   "metadata": {},
   "outputs": [],
   "source": []
  },
  {
   "cell_type": "markdown",
   "id": "7430c4a5-1b89-46cb-ab8d-bfa6f27518dc",
   "metadata": {},
   "source": [
    "# Section 6: combine data sets"
   ]
  },
  {
   "cell_type": "code",
   "execution_count": null,
   "id": "42d5d0b2-4548-4374-bad1-b565ad026e75",
   "metadata": {},
   "outputs": [],
   "source": [
    "BG3_char <- data.frame (\n",
    "  Names = c(\"Gale\", \"Wyll\", \"Astarion\", \"Karlach\"),\n",
    "  HP = c(8, 10, 10, 14)\n",
    ")\n",
    "tbl_BG3_char <- tbl_df(BG3_char)\n",
    "tbl_BG3_char\n",
    "\n",
    "BG3_char_V2 <- data.frame (\n",
    "  Names = c(\"Gale\", \"Wyll\", \"Shadowheart\", \"Lae'zel\"),\n",
    "  Human = c(TRUE, TRUE, FALSE, FALSE)\n",
    ")\n",
    "tbl_BG3_char_V2 <- tbl_df(BG3_char_V2)\n",
    "tbl_BG3_char_V2"
   ]
  },
  {
   "cell_type": "markdown",
   "id": "fc765c85-4aad-4c1c-b667-6bb7b5b388c2",
   "metadata": {},
   "source": [
    "test left_join() and right_join() on the tables above and look at the differences"
   ]
  },
  {
   "cell_type": "code",
   "execution_count": null,
   "id": "760b17fc-185c-4f32-a38a-bb22d7257e89",
   "metadata": {},
   "outputs": [],
   "source": []
  },
  {
   "cell_type": "markdown",
   "id": "8f19ad51-0639-4c0b-a881-ddb75e81505f",
   "metadata": {},
   "source": [
    "test inner_join() and full_join() on the tables above and look at the differences"
   ]
  },
  {
   "cell_type": "code",
   "execution_count": null,
   "id": "5737be19-e998-4eaa-92bb-d293d1f7bd41",
   "metadata": {},
   "outputs": [],
   "source": []
  },
  {
   "cell_type": "markdown",
   "id": "9395a4f7-4681-487c-8f64-bec84935b0be",
   "metadata": {},
   "source": [
    "test semi_join() and anti_join() on the tables above and look at the differences"
   ]
  },
  {
   "cell_type": "code",
   "execution_count": null,
   "id": "b799d4b8-2a68-464a-980c-fce1c0ea8286",
   "metadata": {},
   "outputs": [],
   "source": []
  },
  {
   "cell_type": "code",
   "execution_count": null,
   "id": "a095a9b8-21f6-473e-966b-7d5a8910f697",
   "metadata": {},
   "outputs": [],
   "source": []
  }
 ],
 "metadata": {
  "kernelspec": {
   "display_name": "R",
   "language": "R",
   "name": "ir"
  },
  "language_info": {
   "codemirror_mode": "r",
   "file_extension": ".r",
   "mimetype": "text/x-r-source",
   "name": "R",
   "pygments_lexer": "r",
   "version": "3.6.1"
  }
 },
 "nbformat": 4,
 "nbformat_minor": 5
}
