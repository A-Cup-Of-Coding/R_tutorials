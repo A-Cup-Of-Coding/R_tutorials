{
 "cells": [
  {
   "cell_type": "markdown",
   "id": "4c1e5600-22d0-4a2d-8e29-8b7181b83381",
   "metadata": {},
   "source": [
    "# Section 1: Basic math"
   ]
  },
  {
   "cell_type": "markdown",
   "id": "dd069b03-e6ea-4136-aa9e-7fc161e84398",
   "metadata": {},
   "source": [
    "Calculate an addition"
   ]
  },
  {
   "cell_type": "code",
   "execution_count": null,
   "id": "f7f85347-e559-4342-8a9d-4acee7a3addc",
   "metadata": {},
   "outputs": [],
   "source": []
  },
  {
   "cell_type": "markdown",
   "id": "21f1a077-ed59-47e9-8e59-f2a4770248e6",
   "metadata": {},
   "source": [
    "Calculate a substraction"
   ]
  },
  {
   "cell_type": "code",
   "execution_count": null,
   "id": "26f2a38c-095b-45e1-a8c7-e36a5dbeb1d5",
   "metadata": {},
   "outputs": [],
   "source": []
  },
  {
   "cell_type": "markdown",
   "id": "f019aa46-8937-43ca-a654-482256e35775",
   "metadata": {},
   "source": [
    "Calculate a multiplication"
   ]
  },
  {
   "cell_type": "code",
   "execution_count": null,
   "id": "e5ccf563-d4d9-45d2-b351-00c219adab11",
   "metadata": {},
   "outputs": [],
   "source": []
  },
  {
   "cell_type": "markdown",
   "id": "2b9cb0aa-a8b7-4823-b013-20c773697cb4",
   "metadata": {},
   "source": [
    "Calculate a division"
   ]
  },
  {
   "cell_type": "code",
   "execution_count": null,
   "id": "ed961fc8-77b0-44dc-8765-c9fabc9858b8",
   "metadata": {},
   "outputs": [],
   "source": []
  },
  {
   "cell_type": "markdown",
   "id": "545ba7a9-d619-41d5-b3bc-cb78c1ed8a7c",
   "metadata": {},
   "source": [
    "Calculate an exponent in two different 2 ways"
   ]
  },
  {
   "cell_type": "code",
   "execution_count": null,
   "id": "de968053-40cc-41ee-90fd-1f212a2510bb",
   "metadata": {},
   "outputs": [],
   "source": []
  },
  {
   "cell_type": "markdown",
   "id": "f673c7bf-54f5-4b8c-b57b-bccac45ce18c",
   "metadata": {},
   "source": [
    "Calculate a square root"
   ]
  },
  {
   "cell_type": "code",
   "execution_count": null,
   "id": "a6b624f9-0a36-441b-a7b0-c7bb1ad75cfe",
   "metadata": {},
   "outputs": [],
   "source": []
  },
  {
   "cell_type": "markdown",
   "id": "573144c8-ea5e-4797-a6b3-372faf115807",
   "metadata": {},
   "source": [
    "Calculate the minimum and maximum of a series of numbers"
   ]
  },
  {
   "cell_type": "code",
   "execution_count": null,
   "id": "99b02f0f-54dc-4d5b-bcc0-2526737cc247",
   "metadata": {},
   "outputs": [],
   "source": []
  },
  {
   "cell_type": "markdown",
   "id": "2505c292-0f3f-409d-8914-f207413cfbb8",
   "metadata": {},
   "source": [
    "Calculate an absolute"
   ]
  },
  {
   "cell_type": "code",
   "execution_count": null,
   "id": "2890a500-c8aa-47bc-9a94-76512ee94436",
   "metadata": {},
   "outputs": [],
   "source": []
  },
  {
   "cell_type": "markdown",
   "id": "94d55f41-8947-4d50-9408-24ee72daa5a8",
   "metadata": {},
   "source": [
    "Round a number up"
   ]
  },
  {
   "cell_type": "code",
   "execution_count": null,
   "id": "495436d7-f4f9-4715-b0dd-8d22f4577f5d",
   "metadata": {},
   "outputs": [],
   "source": []
  },
  {
   "cell_type": "markdown",
   "id": "6bc188d5-4050-4cc8-a22a-05e65241ff81",
   "metadata": {},
   "source": [
    "Round a number both up and down"
   ]
  },
  {
   "cell_type": "code",
   "execution_count": null,
   "id": "a2f329a5-880a-4eb3-ba14-6a69c22926c6",
   "metadata": {},
   "outputs": [],
   "source": []
  },
  {
   "cell_type": "markdown",
   "id": "01b2f996-716d-4865-afa8-a35897e53696",
   "metadata": {},
   "source": [
    "Show the difference between the trunc() and floor() functions."
   ]
  },
  {
   "cell_type": "code",
   "execution_count": null,
   "id": "ee042394-1ccd-4b36-a522-617b2207efac",
   "metadata": {},
   "outputs": [],
   "source": []
  },
  {
   "cell_type": "markdown",
   "id": "798f031c-bc09-4a01-b0c4-87db4ee2b358",
   "metadata": {},
   "source": [
    "# Section 2: Operators"
   ]
  },
  {
   "cell_type": "markdown",
   "id": "0d2739c6-ff6f-43f4-87f0-618881a80b44",
   "metadata": {},
   "source": [
    "check if two string variables are equal and two numeric variables."
   ]
  },
  {
   "cell_type": "code",
   "execution_count": null,
   "id": "f75570fc-ea7e-4605-86c5-6d01ccc7d17c",
   "metadata": {},
   "outputs": [],
   "source": []
  },
  {
   "cell_type": "markdown",
   "id": "5dff441b-f8fd-48df-a6ec-80f698184bc1",
   "metadata": {},
   "source": [
    "check if two string variables are not equal and two numeric variables."
   ]
  },
  {
   "cell_type": "code",
   "execution_count": null,
   "id": "c125e4c6-4f1a-43e1-8065-0614a5acde21",
   "metadata": {},
   "outputs": [],
   "source": []
  },
  {
   "cell_type": "markdown",
   "id": "93d19cda-82c5-47d7-a2e6-ee33a520b5d4",
   "metadata": {},
   "source": [
    "Test a greater than and lesser than statement"
   ]
  },
  {
   "cell_type": "code",
   "execution_count": null,
   "id": "870fcfd8-d1d3-46b4-a02e-5806f26b0fe7",
   "metadata": {},
   "outputs": [],
   "source": []
  },
  {
   "cell_type": "code",
   "execution_count": null,
   "id": "3e6e53e1-c2fc-4aba-b6bd-4e96b8e3dfa2",
   "metadata": {},
   "outputs": [],
   "source": []
  },
  {
   "cell_type": "code",
   "execution_count": null,
   "id": "68a31cf1-9fc9-4cca-b81f-4bfb94c4c710",
   "metadata": {},
   "outputs": [],
   "source": []
  },
  {
   "cell_type": "markdown",
   "id": "3eb71048-73c7-46b2-8fdd-4de0d546cbbe",
   "metadata": {},
   "source": [
    "check if a list contains an item"
   ]
  },
  {
   "cell_type": "code",
   "execution_count": null,
   "id": "dcde8c5d-da8b-48fd-825c-434c70b2f129",
   "metadata": {},
   "outputs": [],
   "source": []
  },
  {
   "cell_type": "markdown",
   "id": "18903302-9998-44fe-807c-755101262d37",
   "metadata": {},
   "source": [
    "!! Tip: comparisons are case sensitive, meaning it won't see Cat and cat as equal. Use the tolower() or toupper() functions to change all letters in a string to lower or upper case. !!"
   ]
  },
  {
   "cell_type": "markdown",
   "id": "7817c0a8-75e7-406c-a3c3-ca5f4ce31668",
   "metadata": {},
   "source": [
    "check if an item is not in a list using two different methods"
   ]
  },
  {
   "cell_type": "code",
   "execution_count": null,
   "id": "e27e3892-5787-4e23-842d-0c6579d55262",
   "metadata": {},
   "outputs": [],
   "source": []
  },
  {
   "cell_type": "code",
   "execution_count": null,
   "id": "816c14e4-fc98-4f5a-88f3-3899df47b653",
   "metadata": {},
   "outputs": [],
   "source": []
  },
  {
   "cell_type": "markdown",
   "id": "50ba0e4d-bd92-4a6a-8746-e830f639832a",
   "metadata": {},
   "source": [
    "check if a letter is in a string"
   ]
  },
  {
   "cell_type": "code",
   "execution_count": null,
   "id": "45910b8c-8c1c-4527-bd76-73b5980a6692",
   "metadata": {},
   "outputs": [],
   "source": []
  }
 ],
 "metadata": {
  "kernelspec": {
   "display_name": "R",
   "language": "R",
   "name": "ir"
  },
  "language_info": {
   "codemirror_mode": "r",
   "file_extension": ".r",
   "mimetype": "text/x-r-source",
   "name": "R",
   "pygments_lexer": "r",
   "version": "3.6.1"
  }
 },
 "nbformat": 4,
 "nbformat_minor": 5
}
