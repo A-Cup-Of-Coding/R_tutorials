{
 "cells": [
  {
   "cell_type": "markdown",
   "id": "15ff4eab-ea81-4112-a5aa-726168beba58",
   "metadata": {},
   "source": [
    "# Section 1: for loops"
   ]
  },
  {
   "cell_type": "markdown",
   "id": "825755d5-a14a-41ad-a92e-9eaa91be0381",
   "metadata": {},
   "source": [
    "Create a loop that prints each item from a list or vector"
   ]
  },
  {
   "cell_type": "code",
   "execution_count": null,
   "id": "36401aaa-5462-4116-9c3c-cb19001e09a8",
   "metadata": {},
   "outputs": [],
   "source": []
  },
  {
   "cell_type": "markdown",
   "id": "440e0d19-8c9d-400e-8c63-af1423bdaf49",
   "metadata": {},
   "source": [
    "Create a loop that counts from 1 to 5"
   ]
  },
  {
   "cell_type": "code",
   "execution_count": null,
   "id": "79f1a402-1f3f-460f-bcd1-2c0adff466f1",
   "metadata": {},
   "outputs": [],
   "source": []
  },
  {
   "cell_type": "markdown",
   "id": "6fb026a5-b9d8-47f9-829c-7d43638b4332",
   "metadata": {},
   "source": [
    "Create a nested loop that prints each item from a data frame"
   ]
  },
  {
   "cell_type": "code",
   "execution_count": null,
   "id": "7af58cad-a3e0-4874-8a3b-906d474a78de",
   "metadata": {},
   "outputs": [],
   "source": []
  },
  {
   "cell_type": "markdown",
   "id": "f4d66569-3958-400b-8336-3d9400d46820",
   "metadata": {},
   "source": [
    "# Section 2: while loops"
   ]
  },
  {
   "cell_type": "markdown",
   "id": "07afafad-b8ae-4246-824d-b53fcfd494cf",
   "metadata": {},
   "source": [
    "Create a while loop that counts down from 5 to 0."
   ]
  },
  {
   "cell_type": "code",
   "execution_count": null,
   "id": "2c4d99d3-6d5e-4471-93b2-d9ffe3cee8c5",
   "metadata": {},
   "outputs": [],
   "source": []
  },
  {
   "cell_type": "code",
   "execution_count": null,
   "id": "aa6013fb-3564-46c3-aff2-34686313516b",
   "metadata": {},
   "outputs": [],
   "source": []
  }
 ],
 "metadata": {
  "kernelspec": {
   "display_name": "R",
   "language": "R",
   "name": "ir"
  },
  "language_info": {
   "codemirror_mode": "r",
   "file_extension": ".r",
   "mimetype": "text/x-r-source",
   "name": "R",
   "pygments_lexer": "r",
   "version": "3.6.1"
  }
 },
 "nbformat": 4,
 "nbformat_minor": 5
}
