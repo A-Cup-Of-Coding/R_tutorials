{
 "cells": [
  {
   "cell_type": "markdown",
   "id": "b96abc0b-d959-4ec6-a40b-0ea61fd03f90",
   "metadata": {},
   "source": [
    "# Section 1: Directories"
   ]
  },
  {
   "cell_type": "markdown",
   "id": "29a5b321-b73e-4ce4-8682-6ba745f3e28a",
   "metadata": {},
   "source": [
    "Check current working directory"
   ]
  },
  {
   "cell_type": "code",
   "execution_count": null,
   "id": "ce2355ab-f37d-4a9e-9a58-9efd700dcd94",
   "metadata": {},
   "outputs": [],
   "source": [
    "getwd()"
   ]
  },
  {
   "cell_type": "markdown",
   "id": "cbb68572-3d51-4b97-bbcf-fa47666a516a",
   "metadata": {},
   "source": [
    "View the files in current working directory"
   ]
  },
  {
   "cell_type": "code",
   "execution_count": null,
   "id": "6ec01d90-0202-4cc3-bfad-947d4556c16f",
   "metadata": {},
   "outputs": [],
   "source": [
    "list.files()"
   ]
  },
  {
   "cell_type": "markdown",
   "id": "a0966a5d-030b-445a-a1fc-4ece2fe9c356",
   "metadata": {},
   "source": [
    "Create a new directory and view files again \\\n",
    "!! Tip: Don't use a space in file or folder names as this can cause errors or issues in some programming languages and cases !!"
   ]
  },
  {
   "cell_type": "code",
   "execution_count": null,
   "id": "03c65184-8642-42c2-97f8-cb7c5176399b",
   "metadata": {},
   "outputs": [],
   "source": [
    "dir.create(\"R_Basics_Part1\")\n",
    "list.files()"
   ]
  },
  {
   "cell_type": "markdown",
   "id": "08680c63-ad8f-42de-9465-bb7b5f213db6",
   "metadata": {},
   "source": [
    "Delete new directory and view files again"
   ]
  },
  {
   "cell_type": "code",
   "execution_count": null,
   "id": "70268aca-e002-4be8-bbc5-9c4dc3273d37",
   "metadata": {},
   "outputs": [],
   "source": [
    "unlink(\"R_Basics_Part1\", recursive = TRUE)\n",
    "list.files()"
   ]
  },
  {
   "cell_type": "markdown",
   "id": "242a79a6-56db-4153-8dca-8c63ac06af4f",
   "metadata": {},
   "source": [
    "Create a new directory and set this new directory as the working directory"
   ]
  },
  {
   "cell_type": "code",
   "execution_count": null,
   "id": "969b4df4-a86e-4442-bcfb-10c94ada8e05",
   "metadata": {},
   "outputs": [],
   "source": [
    "dir.create(\"R_Basics_Part1\")\n",
    "setwd(\"R_Basics_Part1\")\n",
    "list.files()"
   ]
  },
  {
   "cell_type": "markdown",
   "id": "4f3796fc-0736-4328-8559-4f893173e168",
   "metadata": {},
   "source": [
    "## Section 2: Variables and data types"
   ]
  },
  {
   "cell_type": "markdown",
   "id": "d611bec3-56a6-43ce-a890-6e687d459d70",
   "metadata": {},
   "source": [
    "!! Tip: always give your variables logical and clear names. This makes it easier to find and solve issues and for others to understand your code as well. !!"
   ]
  },
  {
   "cell_type": "markdown",
   "id": "7a7107d1-048c-4d89-891b-e036c640c85c",
   "metadata": {},
   "source": [
    "Create a variable containing a character/string"
   ]
  },
  {
   "cell_type": "code",
   "execution_count": null,
   "id": "e68b0cb9-6829-4200-a2b1-0d4d5533b510",
   "metadata": {},
   "outputs": [],
   "source": [
    "String_Var <- \"This variable contains a string\"\n",
    "class(String_Var)"
   ]
  },
  {
   "cell_type": "markdown",
   "id": "f730d9ab-f710-4ea2-9fab-67a55835f27e",
   "metadata": {},
   "source": [
    "Create a variable containing a logical/boolean"
   ]
  },
  {
   "cell_type": "code",
   "execution_count": null,
   "id": "6758928a-e999-45b6-bb5d-1266f71228cd",
   "metadata": {},
   "outputs": [],
   "source": [
    "Boolean_Var1 <- TRUE\n",
    "Boolean_Var2 <- FALSE\n",
    "class(Boolean_Var1)\n",
    "class(Boolean_Var2)"
   ]
  },
  {
   "cell_type": "markdown",
   "id": "1e6919f6-d05b-4fd3-861a-e3184151e4c7",
   "metadata": {},
   "source": [
    "Create a variable containing a numeric"
   ]
  },
  {
   "cell_type": "code",
   "execution_count": null,
   "id": "a3673fbc-4be7-4cd7-9f63-83ab2260dab8",
   "metadata": {},
   "outputs": [],
   "source": [
    "Num_Var1 <- 100\n",
    "Num_Var2 <- 5.5\n",
    "class(Num_Var1)\n",
    "class(Num_Var2)"
   ]
  },
  {
   "cell_type": "markdown",
   "id": "e9fb50ac-3639-42e7-b79d-9f6eb33760ca",
   "metadata": {},
   "source": [
    "Create a variable containing a integer"
   ]
  },
  {
   "cell_type": "code",
   "execution_count": null,
   "id": "71372bc3-ef8c-4264-a795-f020bce14bfa",
   "metadata": {},
   "outputs": [],
   "source": [
    "Int_Var1 <- 5L\n",
    "Int_Var2 <- 1:5\n",
    "class(Int_Var1)\n",
    "class(Int_Var2)"
   ]
  },
  {
   "cell_type": "markdown",
   "id": "32f585f3-2be3-4655-8d47-ad7d11dcb23a",
   "metadata": {},
   "source": [
    "!! Tip: a numeric can be a number with a decimal while an integer cannot. R automatically sets numbers as numeric unless a capital L is set behind it. It will also be set as an integer if it's a range of whole numbers. The memory size of an integer is smaller than that of a numeric."
   ]
  },
  {
   "cell_type": "markdown",
   "id": "c64f4e7a-73e1-478a-84ab-aad1a90498be",
   "metadata": {},
   "source": [
    "Create a variable containing a complex (imaginary number)"
   ]
  },
  {
   "cell_type": "code",
   "execution_count": null,
   "id": "7d9a28c7-d935-4240-b7e8-e2ee530b446c",
   "metadata": {},
   "outputs": [],
   "source": [
    "Comp_Var1 <- 10i\n",
    "Comp_Var2 <- 5+5i\n",
    "class(Comp_Var1)\n",
    "class(Comp_Var2)"
   ]
  },
  {
   "cell_type": "markdown",
   "id": "5e75024a-dd71-4600-a20f-2d6428e02952",
   "metadata": {},
   "source": [
    "## Section 3: Data Type Conversion"
   ]
  },
  {
   "cell_type": "markdown",
   "id": "fd71e5d9-50aa-4f4d-83b1-e9cba4586f5e",
   "metadata": {},
   "source": [
    "Convert a string to numeric"
   ]
  },
  {
   "cell_type": "code",
   "execution_count": null,
   "id": "c81a3e6d-91dc-4675-9be2-115b00231fce",
   "metadata": {},
   "outputs": [],
   "source": [
    "String_Var <- \"10\"\n",
    "Num_Var <- as.numeric(String_Var)\n",
    "Num_Var\n",
    "class(Num_Var)"
   ]
  },
  {
   "cell_type": "markdown",
   "id": "1e5cd5f3-4322-410d-8cfe-282e0024acfb",
   "metadata": {},
   "source": [
    "Convert a logical to numeric"
   ]
  },
  {
   "cell_type": "code",
   "execution_count": null,
   "id": "dbb73012-4b8d-471e-85a8-3d9d04316108",
   "metadata": {},
   "outputs": [],
   "source": [
    "Boolean_Var <- TRUE\n",
    "Num_Var <- as.numeric(Boolean_Var)\n",
    "Num_Var\n",
    "class(Num_Var)"
   ]
  },
  {
   "cell_type": "code",
   "execution_count": null,
   "id": "b922f974-ef63-44de-b513-cd9ebab30c49",
   "metadata": {},
   "outputs": [],
   "source": [
    "Boolean_Var <- FALSE\n",
    "Num_Var <- as.numeric(Boolean_Var)\n",
    "Num_Var\n",
    "class(Num_Var)"
   ]
  },
  {
   "cell_type": "markdown",
   "id": "15d52709-ffc0-429e-95e3-f2ffeb70c654",
   "metadata": {},
   "source": [
    "Convert a integer to string"
   ]
  },
  {
   "cell_type": "code",
   "execution_count": null,
   "id": "5e626d2f-6805-452f-9178-ce41ba0402a3",
   "metadata": {},
   "outputs": [],
   "source": [
    "Int_Var <- 10L\n",
    "String_Var <- as.character(Int_Var)\n",
    "String_Var\n",
    "class(String_Var)"
   ]
  },
  {
   "cell_type": "markdown",
   "id": "675096f7-2ce4-4130-9bbb-5c4edd215df9",
   "metadata": {},
   "source": [
    "Convert a numeric to an integer"
   ]
  },
  {
   "cell_type": "code",
   "execution_count": null,
   "id": "6228de0c-a13a-4d60-8f9f-a7b5aaa89018",
   "metadata": {},
   "outputs": [],
   "source": [
    "Num_Var <- 10\n",
    "Int_Var <- as.integer(Num_Var)\n",
    "Int_Var\n",
    "class(Int_Var)"
   ]
  },
  {
   "cell_type": "code",
   "execution_count": null,
   "id": "661bcf8f-4bc6-493c-a29e-8df46c4f3262",
   "metadata": {},
   "outputs": [],
   "source": []
  }
 ],
 "metadata": {
  "kernelspec": {
   "display_name": "R",
   "language": "R",
   "name": "ir"
  },
  "language_info": {
   "codemirror_mode": "r",
   "file_extension": ".r",
   "mimetype": "text/x-r-source",
   "name": "R",
   "pygments_lexer": "r",
   "version": "3.6.1"
  }
 },
 "nbformat": 4,
 "nbformat_minor": 5
}
