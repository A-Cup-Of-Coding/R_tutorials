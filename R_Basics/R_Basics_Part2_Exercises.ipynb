{
 "cells": [
  {
   "cell_type": "markdown",
   "id": "672b09ab-9b9d-4062-9f98-2b2142da8197",
   "metadata": {},
   "source": [
    "# Section 1: Vectors"
   ]
  },
  {
   "cell_type": "markdown",
   "id": "40520a7a-999f-4ae7-b6a0-ae4efaea2bcc",
   "metadata": {},
   "source": [
    "!! Tip: A vector can only contain one data type, is not recursive and is a one-dimensional object.!!"
   ]
  },
  {
   "cell_type": "markdown",
   "id": "b3a4cbbc-aa97-4539-bd95-b458e919f4a0",
   "metadata": {},
   "source": [
    "Create a vector containing strings"
   ]
  },
  {
   "cell_type": "code",
   "execution_count": null,
   "id": "9e8dc917-f8d5-48e8-b79a-182ea29dbb7c",
   "metadata": {},
   "outputs": [],
   "source": []
  },
  {
   "cell_type": "markdown",
   "id": "431135f3-23d7-4e72-85db-040ca6e0162d",
   "metadata": {},
   "source": [
    "Create a vector containing a range of numeric values"
   ]
  },
  {
   "cell_type": "code",
   "execution_count": null,
   "id": "fa9b9206-afa7-40a7-9c2c-c54182a3ee6b",
   "metadata": {},
   "outputs": [],
   "source": []
  },
  {
   "cell_type": "markdown",
   "id": "d1d20775-9141-406d-8e7d-0717b33edec9",
   "metadata": {},
   "source": [
    "Select one item from one of the vectors"
   ]
  },
  {
   "cell_type": "code",
   "execution_count": null,
   "id": "c86a2beb-0e85-45ec-85f7-835c42bcaa7e",
   "metadata": {},
   "outputs": [],
   "source": []
  },
  {
   "cell_type": "markdown",
   "id": "c2f86324-859b-44fb-a2ea-c7852fd6fb88",
   "metadata": {},
   "source": [
    "Select multiple items from one of the vectors"
   ]
  },
  {
   "cell_type": "code",
   "execution_count": null,
   "id": "8820fd46-3f6e-45c5-a627-d768a45c758b",
   "metadata": {},
   "outputs": [],
   "source": []
  },
  {
   "cell_type": "markdown",
   "id": "ef54822e-573e-438d-a5d8-228f5adc7d3c",
   "metadata": {},
   "source": [
    "Change an item from one of the vectors"
   ]
  },
  {
   "cell_type": "code",
   "execution_count": null,
   "id": "ef69fc8d-058b-425d-a6ca-2669cdce960e",
   "metadata": {},
   "outputs": [],
   "source": []
  },
  {
   "cell_type": "markdown",
   "id": "0d8c0505-abd9-4012-a4af-1aecec64f668",
   "metadata": {},
   "source": [
    "Repeat one of the vectors"
   ]
  },
  {
   "cell_type": "code",
   "execution_count": null,
   "id": "ece08938-e733-4094-aa2e-6e5d7cc02a0b",
   "metadata": {},
   "outputs": [],
   "source": []
  },
  {
   "cell_type": "markdown",
   "id": "1f504592-03bc-4282-b822-1398e172c8e4",
   "metadata": {},
   "source": [
    "Create a vector that counts from 0 to 200 with steps of 25"
   ]
  },
  {
   "cell_type": "code",
   "execution_count": null,
   "id": "147e9527-182a-4dd8-910c-d541eb7240a6",
   "metadata": {},
   "outputs": [],
   "source": []
  },
  {
   "cell_type": "markdown",
   "id": "43219654-0602-4580-b660-8fe9ee8def1c",
   "metadata": {},
   "source": [
    "# Section 2: Lists"
   ]
  },
  {
   "cell_type": "markdown",
   "id": "79c8f0a0-1345-44c7-a65a-dd3a6cadb4b4",
   "metadata": {},
   "source": [
    "!! Tip: A list can contain different data types, is recursive and a multidimensional object.!!"
   ]
  },
  {
   "cell_type": "markdown",
   "id": "ba99af1c-074b-4b08-976e-7e1c7dfc1110",
   "metadata": {},
   "source": [
    "Create a list containing strings"
   ]
  },
  {
   "cell_type": "code",
   "execution_count": null,
   "id": "62b2e96e-55bf-4aaf-8620-0df3c6ef5c64",
   "metadata": {},
   "outputs": [],
   "source": []
  },
  {
   "cell_type": "markdown",
   "id": "3957abe7-6482-46ba-a814-6105014593f2",
   "metadata": {},
   "source": [
    "Select one of the itmes in the list"
   ]
  },
  {
   "cell_type": "code",
   "execution_count": null,
   "id": "77fa91a0-7890-43ff-b64f-441e834f9bf0",
   "metadata": {},
   "outputs": [],
   "source": []
  },
  {
   "cell_type": "markdown",
   "id": "188690cb-bc5c-44e7-8dd0-2df512340f4f",
   "metadata": {},
   "source": [
    "Replace one item in the list"
   ]
  },
  {
   "cell_type": "code",
   "execution_count": null,
   "id": "aebbb479-9f7c-479c-ad24-bc3d49601ae3",
   "metadata": {},
   "outputs": [],
   "source": []
  },
  {
   "cell_type": "markdown",
   "id": "5b042af3-e00b-490b-8b88-fe27d6efac40",
   "metadata": {},
   "source": [
    "Add an item to the list"
   ]
  },
  {
   "cell_type": "code",
   "execution_count": null,
   "id": "1b913315-0b09-4fbd-93de-3fbb6c65ef34",
   "metadata": {},
   "outputs": [],
   "source": []
  },
  {
   "cell_type": "markdown",
   "id": "9e7b0c88-edea-46d5-9f47-6a83a3df2fdf",
   "metadata": {},
   "source": [
    "Remove an item from the list"
   ]
  },
  {
   "cell_type": "code",
   "execution_count": null,
   "id": "ea8dfb20-614e-48f6-9e99-e941c9afccb4",
   "metadata": {},
   "outputs": [],
   "source": []
  },
  {
   "cell_type": "markdown",
   "id": "cd40577b-c9e4-4ae0-aca4-e7fde2cc7ca1",
   "metadata": {},
   "source": [
    "# Section 3: Matrices"
   ]
  },
  {
   "cell_type": "markdown",
   "id": "1752c402-2e70-4694-9ff0-3675adcb5835",
   "metadata": {},
   "source": [
    "!! Tip: a matrix can only have 2 dimensions !!"
   ]
  },
  {
   "cell_type": "markdown",
   "id": "8db6aa76-e8e1-4561-b9f2-bf0b3f273c2f",
   "metadata": {},
   "source": [
    "Create a matrix that contains the number 1 to 20, has 5 rows and 4 columns"
   ]
  },
  {
   "cell_type": "code",
   "execution_count": null,
   "id": "a3f71831-c9a2-4081-b7d0-d23d4e8aa497",
   "metadata": {},
   "outputs": [],
   "source": []
  },
  {
   "cell_type": "markdown",
   "id": "998a9efe-d39e-4e0a-a301-eeef2fff9cfc",
   "metadata": {},
   "source": [
    "Select the number 14 from this matrix"
   ]
  },
  {
   "cell_type": "code",
   "execution_count": null,
   "id": "08b7729c-c044-4a6b-baa2-1d3d6f41f852",
   "metadata": {},
   "outputs": [],
   "source": []
  },
  {
   "cell_type": "markdown",
   "id": "d675ddb9-6d8c-43be-a6e0-32f41116f9ad",
   "metadata": {},
   "source": [
    "Select the second column of the matrix"
   ]
  },
  {
   "cell_type": "code",
   "execution_count": null,
   "id": "2c11a1b7-d2f3-4676-a803-a26e3cadbd77",
   "metadata": {},
   "outputs": [],
   "source": []
  },
  {
   "cell_type": "markdown",
   "id": "1f7e35d8-9bf0-49e6-a904-8c062254b3a9",
   "metadata": {},
   "source": [
    "Add a 5th column with the numbres 21 to 25"
   ]
  },
  {
   "cell_type": "code",
   "execution_count": null,
   "id": "7607aa57-634b-4f5e-ab2a-2583cac6893c",
   "metadata": {},
   "outputs": [],
   "source": []
  },
  {
   "cell_type": "markdown",
   "id": "8144c378-cb55-454c-8b1b-e60b07639863",
   "metadata": {},
   "source": [
    "Add a 6th rwo with only zero's"
   ]
  },
  {
   "cell_type": "code",
   "execution_count": null,
   "id": "ad296b62-84ba-46c9-9ad3-e39e9cfdb94f",
   "metadata": {},
   "outputs": [],
   "source": []
  },
  {
   "cell_type": "markdown",
   "id": "e6865a0b-8922-4d80-bdc8-4856df046774",
   "metadata": {},
   "source": [
    "Remove the row with zero's from the Matrix"
   ]
  },
  {
   "cell_type": "code",
   "execution_count": null,
   "id": "bbb14792-c215-4045-92ab-590694483888",
   "metadata": {},
   "outputs": [],
   "source": []
  },
  {
   "cell_type": "markdown",
   "id": "61d23817-9840-4e5b-b42a-6ab6ad237b35",
   "metadata": {},
   "source": [
    "# Section 4: Arrays"
   ]
  },
  {
   "cell_type": "markdown",
   "id": "497cf00c-6ec1-4e83-8bae-0a68c8437b0c",
   "metadata": {},
   "source": [
    "!! Tip: an array can have more than two dimensions but can only contain one data type !!"
   ]
  },
  {
   "cell_type": "markdown",
   "id": "e87e461c-50fc-4183-8ba1-17ef5f924d14",
   "metadata": {},
   "source": [
    "Create an array that contains 50 numbers"
   ]
  },
  {
   "cell_type": "code",
   "execution_count": null,
   "id": "726ba485-5ff1-4a93-84e2-6f0d1409d0e5",
   "metadata": {},
   "outputs": [],
   "source": []
  },
  {
   "cell_type": "markdown",
   "id": "0bb93ba3-813c-44b3-9e40-e7e356b6cc59",
   "metadata": {},
   "source": [
    "Use the previous array to create a new one that contains 2 matrices of 3 rows and 2 columns"
   ]
  },
  {
   "cell_type": "code",
   "execution_count": null,
   "id": "46ce3556-b1fd-40be-b304-23d9ac823619",
   "metadata": {},
   "outputs": [],
   "source": []
  },
  {
   "cell_type": "markdown",
   "id": "5e7d4b26-11bb-4463-a26a-a5c8fdeccce4",
   "metadata": {},
   "source": [
    "Select the second column of the first matrix"
   ]
  },
  {
   "cell_type": "code",
   "execution_count": null,
   "id": "896b0467-61a5-4ea0-9c89-285339235b67",
   "metadata": {},
   "outputs": [],
   "source": []
  },
  {
   "cell_type": "markdown",
   "id": "76751a82-5106-4e95-84c4-8fd451ba32ea",
   "metadata": {},
   "source": [
    "# Section 5: Data frames"
   ]
  },
  {
   "cell_type": "markdown",
   "id": "17afde65-2d01-41d3-8462-3c71ce476abd",
   "metadata": {},
   "source": [
    "!! Dataframes are basically tables in R and can contain different data types. However it is advised to have the same type of data in each column. !!"
   ]
  },
  {
   "cell_type": "markdown",
   "id": "2eb307e4-664d-42ec-ada6-092fb8e62dec",
   "metadata": {},
   "source": [
    "Create a dataframes with three columns, each with a different datatype"
   ]
  },
  {
   "cell_type": "code",
   "execution_count": null,
   "id": "5597ea42-f7f5-4356-90c8-6e3ed281ac35",
   "metadata": {},
   "outputs": [],
   "source": []
  },
  {
   "cell_type": "markdown",
   "id": "21d1d86f-b2c2-427f-a0a0-9c5513f3c047",
   "metadata": {},
   "source": [
    "Select the 2nd column of your data frame with three different methods."
   ]
  },
  {
   "cell_type": "code",
   "execution_count": null,
   "id": "f7d7fe05-9731-4b20-8673-07c64fb2ec30",
   "metadata": {},
   "outputs": [],
   "source": []
  },
  {
   "cell_type": "code",
   "execution_count": null,
   "id": "1e37b4bd-c6ca-4150-99b0-860f20af47cd",
   "metadata": {},
   "outputs": [],
   "source": []
  },
  {
   "cell_type": "code",
   "execution_count": null,
   "id": "c4bbf2df-6d45-4297-8d83-16a96875f97a",
   "metadata": {},
   "outputs": [],
   "source": []
  }
 ],
 "metadata": {
  "kernelspec": {
   "display_name": "R",
   "language": "R",
   "name": "ir"
  },
  "language_info": {
   "codemirror_mode": "r",
   "file_extension": ".r",
   "mimetype": "text/x-r-source",
   "name": "R",
   "pygments_lexer": "r",
   "version": "3.6.1"
  }
 },
 "nbformat": 4,
 "nbformat_minor": 5
}
