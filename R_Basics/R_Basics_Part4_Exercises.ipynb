{
 "cells": [
  {
   "cell_type": "markdown",
   "id": "6eb32758-481e-40b2-a64c-0ae1794451ac",
   "metadata": {},
   "source": [
    "# Section 1: Printing"
   ]
  },
  {
   "cell_type": "markdown",
   "id": "d74940a7-fca9-476b-9277-f8904bb948ad",
   "metadata": {},
   "source": [
    "!! Tip: in R you can print by simply giving the variable you want to print, but this does not work everytime. In some case using the print() function is needed. !!"
   ]
  },
  {
   "cell_type": "code",
   "execution_count": null,
   "id": "40e2a023-977a-4bd4-b1d8-dfae3da8e5e8",
   "metadata": {},
   "outputs": [],
   "source": []
  },
  {
   "cell_type": "markdown",
   "id": "a8b494ba-457b-465e-aa21-b0e4dc908fee",
   "metadata": {},
   "source": [
    "Print two strings combined together"
   ]
  },
  {
   "cell_type": "code",
   "execution_count": null,
   "id": "6842102a-a546-485f-9923-2f7c7b60e862",
   "metadata": {},
   "outputs": [],
   "source": []
  },
  {
   "cell_type": "markdown",
   "id": "47634342-4381-4a8e-bec9-19a37784e9d6",
   "metadata": {},
   "source": [
    "Create a print statement using sprintf() and %s, %d and %f."
   ]
  },
  {
   "cell_type": "code",
   "execution_count": null,
   "id": "ba58b504-1934-4594-ab3b-3a4fc24c2217",
   "metadata": {},
   "outputs": [],
   "source": []
  },
  {
   "cell_type": "markdown",
   "id": "18795741-2def-4ae4-9354-fa4ab42be0c2",
   "metadata": {},
   "source": [
    "Creat a print statement using cat()"
   ]
  },
  {
   "cell_type": "code",
   "execution_count": null,
   "id": "cd9d0943-c504-4430-8cee-c2717bec3b23",
   "metadata": {},
   "outputs": [],
   "source": []
  },
  {
   "cell_type": "markdown",
   "id": "79ea46ed-264f-43d4-905e-50f85ea19ede",
   "metadata": {},
   "source": [
    "# Section 2: File handling"
   ]
  },
  {
   "cell_type": "markdown",
   "id": "799872ff-9a56-43c5-af83-f23073cba1db",
   "metadata": {},
   "source": [
    "Write some text to a file"
   ]
  },
  {
   "cell_type": "code",
   "execution_count": null,
   "id": "18eee95f-9ef7-40dc-bcea-3677b44ab48a",
   "metadata": {},
   "outputs": [],
   "source": []
  },
  {
   "cell_type": "markdown",
   "id": "575a2f37-0912-4d72-81f8-240157d9d219",
   "metadata": {},
   "source": [
    "Open a file with text"
   ]
  },
  {
   "cell_type": "code",
   "execution_count": null,
   "id": "29094753-e435-43f6-af4b-f859b164eac3",
   "metadata": {},
   "outputs": [],
   "source": []
  },
  {
   "cell_type": "markdown",
   "id": "71c8cb38-207e-4188-9c0c-89651b5cd2fa",
   "metadata": {},
   "source": [
    "Write a table to a file"
   ]
  },
  {
   "cell_type": "code",
   "execution_count": null,
   "id": "46419b99-0b60-4434-874c-6fdf6cd7ea98",
   "metadata": {},
   "outputs": [],
   "source": []
  },
  {
   "cell_type": "markdown",
   "id": "4afeb05c-2b90-4d0b-8968-4f19e3355c38",
   "metadata": {},
   "source": [
    "Open a file with a table"
   ]
  },
  {
   "cell_type": "code",
   "execution_count": null,
   "id": "b698c9f6-2fb5-4912-b9bf-20c382c289fb",
   "metadata": {},
   "outputs": [],
   "source": []
  },
  {
   "cell_type": "code",
   "execution_count": null,
   "id": "ef443a37-c0c7-4fab-90d2-e39a98310915",
   "metadata": {},
   "outputs": [],
   "source": []
  }
 ],
 "metadata": {
  "kernelspec": {
   "display_name": "R",
   "language": "R",
   "name": "ir"
  },
  "language_info": {
   "codemirror_mode": "r",
   "file_extension": ".r",
   "mimetype": "text/x-r-source",
   "name": "R",
   "pygments_lexer": "r",
   "version": "3.6.1"
  }
 },
 "nbformat": 4,
 "nbformat_minor": 5
}
