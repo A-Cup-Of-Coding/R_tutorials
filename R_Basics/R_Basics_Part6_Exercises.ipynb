{
 "cells": [
  {
   "cell_type": "markdown",
   "id": "2f1baf18-5e11-4e00-bad0-3060c6589a04",
   "metadata": {},
   "source": [
    "# Section 1: if/else statements"
   ]
  },
  {
   "cell_type": "markdown",
   "id": "a661e46b-9eea-4828-8922-d663aaa97f65",
   "metadata": {},
   "source": [
    "create an if-else statement that checks whether a name contains the letter A.\n"
   ]
  },
  {
   "cell_type": "code",
   "execution_count": null,
   "id": "43a19f3d-b888-4081-acd4-204b72b231aa",
   "metadata": {},
   "outputs": [],
   "source": []
  },
  {
   "cell_type": "markdown",
   "id": "fd3bef1f-e024-40e0-930b-7c27e7f32861",
   "metadata": {},
   "source": [
    "Add an else if to the created statement to check another letter as well"
   ]
  },
  {
   "cell_type": "code",
   "execution_count": null,
   "id": "1b272ff9-4b90-4f3e-9405-46f36201fab8",
   "metadata": {},
   "outputs": [],
   "source": []
  },
  {
   "cell_type": "markdown",
   "id": "a96a396a-de90-48f0-b66f-a345c723dd04",
   "metadata": {},
   "source": [
    "!! Tip: an if else statement stops as soon as it's found a statement that is TRUE. If you want to check multiple statements, you'll need to use more if statements instead of else if statements."
   ]
  },
  {
   "cell_type": "code",
   "execution_count": null,
   "id": "329d8cac-4e45-48ff-af60-c741a877c697",
   "metadata": {},
   "outputs": [],
   "source": []
  },
  {
   "cell_type": "markdown",
   "id": "9a9da9e2-644f-4818-9701-1788353ad5ac",
   "metadata": {},
   "source": [
    "# Section 2: functions"
   ]
  },
  {
   "cell_type": "markdown",
   "id": "c9d8c729-62fc-478f-a401-bb91288185ae",
   "metadata": {},
   "source": [
    "Create a function that adds 10 to any number you give it"
   ]
  },
  {
   "cell_type": "code",
   "execution_count": null,
   "id": "5c12d61d-0bd8-4957-8769-e4864555b095",
   "metadata": {},
   "outputs": [],
   "source": []
  },
  {
   "cell_type": "markdown",
   "id": "53840fbf-90a7-4723-82b6-c2a04bc2d3a4",
   "metadata": {},
   "source": [
    "Create a function that takes multiple input values"
   ]
  },
  {
   "cell_type": "code",
   "execution_count": null,
   "id": "8dd6181d-52ef-42d0-baf9-f1887906b184",
   "metadata": {},
   "outputs": [],
   "source": [
    "                                   "
   ]
  },
  {
   "cell_type": "markdown",
   "id": "cb2538ff-8a83-482e-9573-d52185d7a6d7",
   "metadata": {},
   "source": [
    "Create a function that takes returns the value"
   ]
  },
  {
   "cell_type": "code",
   "execution_count": null,
   "id": "dfeb81bd-9a55-4109-a32a-a672a1fcc22a",
   "metadata": {},
   "outputs": [],
   "source": []
  }
 ],
 "metadata": {
  "kernelspec": {
   "display_name": "R",
   "language": "R",
   "name": "ir"
  },
  "language_info": {
   "codemirror_mode": "r",
   "file_extension": ".r",
   "mimetype": "text/x-r-source",
   "name": "R",
   "pygments_lexer": "r",
   "version": "3.6.1"
  }
 },
 "nbformat": 4,
 "nbformat_minor": 5
}
